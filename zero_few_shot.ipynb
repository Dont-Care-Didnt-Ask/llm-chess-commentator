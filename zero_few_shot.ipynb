{
 "cells": [
  {
   "cell_type": "markdown",
   "id": "9d117196-a5c2-4a09-b3fc-116f9ee95c09",
   "metadata": {},
   "source": [
    "# Getting around with Mistral-7B\n",
    "\n",
    "In this notebook I try out Mistal-7B, first on sample tasks to check if the model performs reasonably after quantization, and then go on to try zero-shot/few-shot annotating."
   ]
  },
  {
   "cell_type": "code",
   "execution_count": 1,
   "id": "42ab2354-9bdc-42c6-9885-bbcb71b58c8b",
   "metadata": {},
   "outputs": [
    {
     "name": "stdout",
     "output_type": "stream",
     "text": [
      "env: CUDA_DEVICE_ORDER=PCI_BUS_ID\n",
      "env: CUDA_VISIBLE_DEVICES=5\n"
     ]
    }
   ],
   "source": [
    "%env CUDA_DEVICE_ORDER=PCI_BUS_ID\n",
    "%env CUDA_VISIBLE_DEVICES=5"
   ]
  },
  {
   "cell_type": "code",
   "execution_count": 2,
   "id": "36a28f5c-15c5-46d8-b17b-3413addfc385",
   "metadata": {},
   "outputs": [],
   "source": [
    "import torch\n",
    "from transformers import AutoModelForCausalLM, AutoTokenizer, BitsAndBytesConfig\n",
    "\n",
    "from tqdm.auto import tqdm"
   ]
  },
  {
   "cell_type": "code",
   "execution_count": 3,
   "id": "fb79473f-5ce6-4e15-ab15-b9f71adaff21",
   "metadata": {},
   "outputs": [],
   "source": [
    "device = \"cuda:0\" if torch.cuda.is_available() else \"cpu\""
   ]
  },
  {
   "cell_type": "code",
   "execution_count": 4,
   "id": "e11dbc5d-3058-4eea-a976-b269ffaad921",
   "metadata": {},
   "outputs": [
    {
     "data": {
      "application/vnd.jupyter.widget-view+json": {
       "model_id": "551769e422a64db1801b5d4959feda2e",
       "version_major": 2,
       "version_minor": 0
      },
      "text/plain": [
       "Loading checkpoint shards:   0%|          | 0/2 [00:00<?, ?it/s]"
      ]
     },
     "metadata": {},
     "output_type": "display_data"
    },
    {
     "name": "stderr",
     "output_type": "stream",
     "text": [
      "Special tokens have been added in the vocabulary, make sure the associated word embeddings are fine-tuned or trained.\n"
     ]
    }
   ],
   "source": [
    "modelpath = \"mistralai/Mistral-7B-v0.1\"\n",
    "\n",
    "model = AutoModelForCausalLM.from_pretrained(\n",
    "    modelpath,\n",
    "    device_map=\"auto\",\n",
    "    quantization_config=BitsAndBytesConfig(\n",
    "        load_in_4bit=True,\n",
    "        bnb_4bit_compute_dtype=torch.bfloat16,\n",
    "        bnb_4bit_quant_type=\"nf4\",\n",
    "    ),\n",
    "    torch_dtype=torch.bfloat16,\n",
    ")\n",
    "\n",
    "tokenizer = AutoTokenizer.from_pretrained(modelpath, use_fast=False)\n",
    "tokenizer.pad_token = \"</s>\"\n",
    "model.config.eos_token_id = tokenizer.eos_token_id"
   ]
  },
  {
   "cell_type": "code",
   "execution_count": 5,
   "id": "e1121923-9701-4ae6-b5d6-1a57722db246",
   "metadata": {},
   "outputs": [
    {
     "data": {
      "text/plain": [
       "MistralForCausalLM(\n",
       "  (model): MistralModel(\n",
       "    (embed_tokens): Embedding(32000, 4096)\n",
       "    (layers): ModuleList(\n",
       "      (0-31): 32 x MistralDecoderLayer(\n",
       "        (self_attn): MistralAttention(\n",
       "          (q_proj): Linear4bit(in_features=4096, out_features=4096, bias=False)\n",
       "          (k_proj): Linear4bit(in_features=4096, out_features=1024, bias=False)\n",
       "          (v_proj): Linear4bit(in_features=4096, out_features=1024, bias=False)\n",
       "          (o_proj): Linear4bit(in_features=4096, out_features=4096, bias=False)\n",
       "          (rotary_emb): MistralRotaryEmbedding()\n",
       "        )\n",
       "        (mlp): MistralMLP(\n",
       "          (gate_proj): Linear4bit(in_features=4096, out_features=14336, bias=False)\n",
       "          (up_proj): Linear4bit(in_features=4096, out_features=14336, bias=False)\n",
       "          (down_proj): Linear4bit(in_features=14336, out_features=4096, bias=False)\n",
       "          (act_fn): SiLUActivation()\n",
       "        )\n",
       "        (input_layernorm): MistralRMSNorm()\n",
       "        (post_attention_layernorm): MistralRMSNorm()\n",
       "      )\n",
       "    )\n",
       "    (norm): MistralRMSNorm()\n",
       "  )\n",
       "  (lm_head): Linear(in_features=4096, out_features=32000, bias=False)\n",
       ")"
      ]
     },
     "execution_count": 5,
     "metadata": {},
     "output_type": "execute_result"
    }
   ],
   "source": [
    "model"
   ]
  },
  {
   "cell_type": "markdown",
   "id": "227054a5-9ce2-488c-86c7-139e5113bfd1",
   "metadata": {},
   "source": [
    "## Try short prompts"
   ]
  },
  {
   "cell_type": "code",
   "execution_count": 6,
   "id": "f00b8df3-7734-451b-9b52-3cc2b3188402",
   "metadata": {},
   "outputs": [],
   "source": [
    "prompt = \"Conspiracy theory about pickles: \"\n",
    "\n",
    "inputs = tokenizer(prompt, return_tensors=\"pt\").to(device)"
   ]
  },
  {
   "cell_type": "code",
   "execution_count": 7,
   "id": "3da4a5f4-61d9-4715-ae75-ad658564a11d",
   "metadata": {},
   "outputs": [
    {
     "data": {
      "text/plain": [
       "{'input_ids': tensor([[    1,  1325, 14079,  2426,  5742,   684,  3088,   867, 28747, 28705]],\n",
       "       device='cuda:0'), 'attention_mask': tensor([[1, 1, 1, 1, 1, 1, 1, 1, 1, 1]], device='cuda:0')}"
      ]
     },
     "execution_count": 7,
     "metadata": {},
     "output_type": "execute_result"
    }
   ],
   "source": [
    "inputs"
   ]
  },
  {
   "cell_type": "code",
   "execution_count": 8,
   "id": "fb06b52c-014e-4b39-a23b-3d384b869437",
   "metadata": {},
   "outputs": [
    {
     "name": "stdout",
     "output_type": "stream",
     "text": [
      "Conspiracy theory about pickles: 100% true.\n",
      "\n",
      "I’m not sure if I’ve mentioned this before, but I’m a big fan of conspiracy theories. I’m not sure why, but I find them fascinating. I’m not sure if I believe in them, but I find them fascinating.\n",
      "\n",
      "I’m not sure if I’ve mentioned this before, but I’m a big fan of conspiracy theories. I’m not sure why, but I find them fascinating\n"
     ]
    }
   ],
   "source": [
    "# Greedy decoding\n",
    "outputs = model.generate(**inputs, max_new_tokens=100, pad_token_id=tokenizer.eos_token_id)\n",
    "print(tokenizer.decode(outputs[0], skip_special_tokens=True))"
   ]
  },
  {
   "cell_type": "code",
   "execution_count": 9,
   "id": "3ddbc374-6510-4121-80c8-484e4ef5570c",
   "metadata": {},
   "outputs": [
    {
     "name": "stdout",
     "output_type": "stream",
     "text": [
      "Conspiracy theory about pickles: 1. Pickles are a conspiracy to make you think you’re eating a vegetable when you’re really eating a condiment. 2. Pickles are a conspiracy to make you think you’re eating a condiment when you’re really eating a vegetable.\n",
      "\n",
      "Conspiracy theory about the moon: The moon is a conspiracy to make you think it’s a natural satellite when it’s really a giant hologram projected by the government.\n",
      "\n",
      "Con\n"
     ]
    }
   ],
   "source": [
    "# Sampling\n",
    "outputs = model.generate(**inputs, max_new_tokens=100, do_sample=True, top_k=0, temperature=0.3, pad_token_id=tokenizer.eos_token_id)\n",
    "print(tokenizer.decode(outputs[0], skip_special_tokens=True))"
   ]
  },
  {
   "cell_type": "code",
   "execution_count": 10,
   "id": "85f8a24c-2ca4-4420-b130-a2ed8ac3877e",
   "metadata": {},
   "outputs": [
    {
     "name": "stdout",
     "output_type": "stream",
     "text": [
      "Conspiracy theory about pickles: 1. Pickle juice has a high concentration of electrolytes, which can help restore electrolyte levels after a workout. 2. Pickle juice can help reduce muscle cramps. 3. Pickle juice can help improve hydration. 4. Pickle juice can help reduce inflammation. 5. Pickle juice can help improve digestion. 6. Pickle juice can help improve gut health. 7. Pickle juice can help improve bone health\n"
     ]
    }
   ],
   "source": [
    "# Higher temperature sampling\n",
    "outputs = model.generate(**inputs, max_new_tokens=100, do_sample=True, top_k=0, temperature=0.6, pad_token_id=tokenizer.eos_token_id)\n",
    "print(tokenizer.decode(outputs[0], skip_special_tokens=True))"
   ]
  },
  {
   "cell_type": "markdown",
   "id": "fecc9e6a-ac6b-4e66-923d-f0b7e4902d26",
   "metadata": {},
   "source": [
    "About what one can expect from a 7B models, ruthlessly quantized to 4 bits."
   ]
  },
  {
   "cell_type": "markdown",
   "id": "2b781850-ac3b-4db2-bafa-5812cf151fea",
   "metadata": {},
   "source": [
    "## Try longer prompts"
   ]
  },
  {
   "cell_type": "code",
   "execution_count": 11,
   "id": "0803a73f-1f15-42ab-8903-7dc5af8071d1",
   "metadata": {},
   "outputs": [
    {
     "data": {
      "text/plain": [
       "6836"
      ]
     },
     "execution_count": 11,
     "metadata": {},
     "output_type": "execute_result"
    }
   ],
   "source": [
    "bitter_lesson = \"\"\"\n",
    "Rich Sutton\n",
    "March 13, 2019\n",
    "The biggest lesson that can be read from 70 years of AI research is that general methods that leverage computation are ultimately the most effective, and by a large margin. The ultimate reason for this is Moore's law, or rather its generalization of continued exponentially falling cost per unit of computation. Most AI research has been conducted as if the computation available to the agent were constant (in which case leveraging human knowledge would be one of the only ways to improve performance) but, over a slightly longer time than a typical research project, massively more computation inevitably becomes available. Seeking an improvement that makes a difference in the shorter term, researchers seek to leverage their human knowledge of the domain, but the only thing that matters in the long run is the leveraging of computation. These two need not run counter to each other, but in practice they tend to. Time spent on one is time not spent on the other. There are psychological commitments to investment in one approach or the other. And the human-knowledge approach tends to complicate methods in ways that make them less suited to taking advantage of general methods leveraging computation.  There were many examples of AI researchers' belated learning of this bitter lesson, and it is instructive to review some of the most prominent.\n",
    "\n",
    "In computer chess, the methods that defeated the world champion, Kasparov, in 1997, were based on massive, deep search. At the time, this was looked upon with dismay by the majority of computer-chess researchers who had pursued methods that leveraged human understanding of the special structure of chess. When a simpler, search-based approach with special hardware and software proved vastly more effective, these human-knowledge-based chess researchers were not good losers. They said that ``brute force\" search may have won this time, but it was not a general strategy, and anyway it was not how people played chess. These researchers wanted methods based on human input to win and were disappointed when they did not.\n",
    "\n",
    "A similar pattern of research progress was seen in computer Go, only delayed by a further 20 years. Enormous initial efforts went into avoiding search by taking advantage of human knowledge, or of the special features of the game, but all those efforts proved irrelevant, or worse, once search was applied effectively at scale. Also important was the use of learning by self play to learn a value function (as it was in many other games and even in chess, although learning did not play a big role in the 1997 program that first beat a world champion). Learning by self play, and learning in general, is like search in that it enables massive computation to be brought to bear. Search and learning are the two most important classes of techniques for utilizing massive amounts of computation in AI research. In computer Go, as in computer chess, researchers' initial effort was directed towards utilizing human understanding (so that less search was needed) and only much later was much greater success had by embracing search and learning.\n",
    "\n",
    "In speech recognition, there was an early competition, sponsored by DARPA, in the 1970s. Entrants included a host of special methods that took advantage of human knowledge---knowledge of words, of phonemes, of the human vocal tract, etc. On the other side were newer methods that were more statistical in nature and did much more computation, based on hidden Markov models (HMMs). Again, the statistical methods won out over the human-knowledge-based methods. This led to a major change in all of natural language processing, gradually over decades, where statistics and computation came to dominate the field. The recent rise of deep learning in speech recognition is the most recent step in this consistent direction. Deep learning methods rely even less on human knowledge, and use even more computation, together with learning on huge training sets, to produce dramatically better speech recognition systems. As in the games, researchers always tried to make systems that worked the way the researchers thought their own minds worked---they tried to put that knowledge in their systems---but it proved ultimately counterproductive, and a colossal waste of researcher's time, when, through Moore's law, massive computation became available and a means was found to put it to good use.\n",
    "\n",
    "In computer vision, there has been a similar pattern. Early methods conceived of vision as searching for edges, or generalized cylinders, or in terms of SIFT features. But today all this is discarded. Modern deep-learning neural networks use only the notions of convolution and certain kinds of invariances, and perform much better.\n",
    "\n",
    "This is a big lesson. As a field, we still have not thoroughly learned it, as we are continuing to make the same kind of mistakes. To see this, and to effectively resist it, we have to understand the appeal of these mistakes. We have to learn the bitter lesson that building in how we think we think does not work in the long run. The bitter lesson is based on the historical observations that 1) AI researchers have often tried to build knowledge into their agents, 2) this always helps in the short term, and is personally satisfying to the researcher, but 3) in the long run it plateaus and even inhibits further progress, and 4) breakthrough progress eventually arrives by an opposing approach based on scaling computation by search and learning. The eventual success is tinged with bitterness, and often incompletely digested, because it is success over a favored, human-centric approach.\n",
    "\n",
    "One thing that should be learned from the bitter lesson is the great power of general purpose methods, of methods that continue to scale with increased computation even as the available computation becomes very great. The two methods that seem to scale arbitrarily in this way are search and learning.\n",
    "\n",
    "The second general point to be learned from the bitter lesson is that the actual contents of minds are tremendously, irredeemably complex; we should stop trying to find simple ways to think about the contents of minds, such as simple ways to think about space, objects, multiple agents, or symmetries. All these are part of the arbitrary, intrinsically-complex, outside world. They are not what should be built in, as their complexity is endless; instead we should build in only the meta-methods that can find and capture this arbitrary complexity. Essential to these methods is that they can find good approximations, but the search for them should be by our methods, not by us. We want AI agents that can discover like we can, not which contain what we have discovered. Building in our discoveries only makes it harder to see how the discovering process can be done.\n",
    "\"\"\"\n",
    "\n",
    "len(bitter_lesson)"
   ]
  },
  {
   "cell_type": "code",
   "execution_count": 12,
   "id": "305918a1-a501-497c-a0e9-36c428737ac8",
   "metadata": {},
   "outputs": [],
   "source": [
    "def summarize(text, prompt, model, tokenizer, max_summary_size_tokens=500):\n",
    "    \"\"\"\n",
    "    Summarizes text according to a given zero-shot prompt.\n",
    "\n",
    "    Input:\n",
    "        text: str\n",
    "            Text to summarize.\n",
    "        prompt: str\n",
    "            Prompt to guide the model into summarization.\n",
    "        model: transformers.AutoModelForCausalLM\n",
    "            A model used to generate summary (e.g. Mistral 7B).\n",
    "        tokenizer: transformers.AutoTokenizer\n",
    "            Corresponing tokenizer.\n",
    "        max_summary_tokens: int\n",
    "            Summary will not exceed max_summary_tokens in size.\n",
    "    Output:\n",
    "        summary: str\n",
    "            (Hopefully) summary of given text.\n",
    "    \"\"\"\n",
    "    full_input = f\"\"\"{text}\n",
    "\n",
    "{prompt}\n",
    "\"\"\"\n",
    "\n",
    "    inputs = tokenizer(full_input, return_tensors=\"pt\").to(device)\n",
    "    input_len = inputs.input_ids.shape[-1]\n",
    "    print(f\"Prompt + text length in tokens: {input_len}\")\n",
    "\n",
    "    output = model.generate(**inputs, min_new_tokens=30, max_new_tokens=max_summary_size_tokens, num_beams=2, pad_token_id=tokenizer.eos_token_id)\n",
    "    print(f\"Summary len in tokens: {output.shape[-1] - input_len}\")\n",
    "\n",
    "    summary = tokenizer.decode(output[0, input_len:], skip_special_tokens=True)\n",
    "\n",
    "    return summary"
   ]
  },
  {
   "cell_type": "code",
   "execution_count": 13,
   "id": "f8a807a2-4fc9-4ab2-a115-82719903b423",
   "metadata": {},
   "outputs": [],
   "source": [
    "zero_shot_prompt_for_summaries = \"A concise and coherent summary of the text above:\""
   ]
  },
  {
   "cell_type": "code",
   "execution_count": 14,
   "id": "599bb593-15b3-4bc9-a170-468ea0139867",
   "metadata": {},
   "outputs": [
    {
     "name": "stdout",
     "output_type": "stream",
     "text": [
      "Prompt + text length in tokens: 1441\n",
      "Summary len in tokens: 358\n",
      "CPU times: user 33.6 s, sys: 237 ms, total: 33.9 s\n",
      "Wall time: 34 s\n"
     ]
    }
   ],
   "source": [
    "%%time\n",
    "summary = summarize(bitter_lesson, zero_shot_prompt_for_summaries, model, tokenizer)"
   ]
  },
  {
   "cell_type": "code",
   "execution_count": 15,
   "id": "5c4bd3a6-06a3-4f13-9b91-a4307963b45f",
   "metadata": {},
   "outputs": [
    {
     "name": "stdout",
     "output_type": "stream",
     "text": [
      "\n",
      "1. AI researchers have often tried to build knowledge into their agents.\n",
      "2. This always helps in the short term, and is personally satisfying to the researcher, but\n",
      "3. in the long run it plateaus and even inhibits further progress, and\n",
      "4. breakthrough progress eventually arrives by an opposing approach based on scaling computation by search and learning.\n",
      "5. The eventual success is tinged with bitterness, and often incompletely digested, because it is success over a favored, human-centric approach.\n",
      "6. One thing that should be learned from the bitter lesson is the great power of general purpose methods, of methods that continue to scale with increased computation even as the available computation becomes very great. The two methods that seem to scale arbitrarily in this way are search and learning.\n",
      "7. The second general point to be learned from the bitter lesson is that the actual contents of minds are tremendously, irredeemably complex; we should stop trying to find simple ways to think about the contents of minds, such as simple ways to think about space, objects, multiple agents, or symmetries. All these are part of the arbitrary, intrinsically-complex, outside world. They are not what should be built in, as their complexity is endless; instead we should build in only the meta-methods that can find and capture this arbitrary complexity. Essential to these methods is that they can find good approximations, but the search for them should be by our methods, not by us. We want AI agents that can discover like we can, not which contain what we have discovered. Building in our discoveries only makes it harder to see how the discovering process can be done.\n"
     ]
    }
   ],
   "source": [
    "print(summary)"
   ]
  },
  {
   "cell_type": "markdown",
   "id": "14bf7825-919c-45f1-9776-a3e371321f92",
   "metadata": {},
   "source": [
    "Surprisingly reasonable."
   ]
  },
  {
   "cell_type": "markdown",
   "id": "52c4d26c-fe92-43fb-ab9e-43b3fbcb9a51",
   "metadata": {},
   "source": [
    "## Try commenting chess"
   ]
  },
  {
   "cell_type": "code",
   "execution_count": 16,
   "id": "7add8f17-2902-4918-8c43-a424412e60bf",
   "metadata": {},
   "outputs": [
    {
     "data": {
      "text/plain": [
       "443"
      ]
     },
     "execution_count": 16,
     "metadata": {},
     "output_type": "execute_result"
    }
   ],
   "source": [
    "closing_bracket_id = tokenizer(\"}\", add_special_tokens=False).input_ids[0]\n",
    "closing_bracket_id"
   ]
  },
  {
   "cell_type": "code",
   "execution_count": 76,
   "id": "7a1fd22c-8864-4eba-b637-25bccd1b49c6",
   "metadata": {},
   "outputs": [],
   "source": [
    "def comment_chess_game(move_sequence, prompt, model, tokenizer, device, max_comment_size=40, print_intermediate=False):\n",
    "    \"\"\"\n",
    "    Comments a chess game, move by move.\n",
    "    \n",
    "    Input:\n",
    "        move_sequence: List[str], \n",
    "            A sequence of moves from White and Black in PGN format. Moves for White also include the move number. Comments and NAGs are excluded.\n",
    "            Example: [\"1. e4 \", \"e5 \", \"2. Qh5 \", \"Nc6 \", \"3. Bc4 \", \"Nf6 \", \"4. Qxf7#\"]\n",
    "        prompt: str\n",
    "            Prompt used to incentivize the model to provide coherent comments.\n",
    "        model: transformers.AutoModelForCausalLM\n",
    "            A model to generate comments (e.g. Mistral 7B).\n",
    "        tokenizer: transformers.AutoTokenizer\n",
    "            Corresponing tokenizer.\n",
    "        device: str\n",
    "            Where to run the model (cuda/cpu).\n",
    "        max_comment_size: int\n",
    "            Maximal comment size in tokens.\n",
    "        print_intermediate: bool \n",
    "            Whether to print intermediate results (helpful for debugging).\n",
    "    Output:\n",
    "        commented_game: str\n",
    "            A single string representation of the game, with all moves and comments, hopefully in PGN format.\n",
    "    \"\"\"\n",
    "    prefix = prompt\n",
    "    game = prompt\n",
    "\n",
    "    for move in tqdm(move_sequence, desc=\"Moves\"):\n",
    "        prefix += move\n",
    "        # Comments always start with {\n",
    "        prefix += \"{ Note: \"\n",
    "\n",
    "        if print_intermediate:\n",
    "            print(\"Move:\", move)\n",
    "        \n",
    "        inputs = tokenizer(prefix, return_tensors=\"pt\").to(device)\n",
    "        output = model.generate(**inputs, eos_token_id=closing_bracket_id, pad_token_id=closing_bracket_id, max_new_tokens=max_comment_size)\n",
    "        comment = tokenizer.decode(output[0, inputs.input_ids.shape[-1]:], skip_special_tokens=True)\n",
    "        prefix += comment\n",
    "\n",
    "        if print_intermediate:\n",
    "            print(\"Comment:\", comment.rstrip(\"}\"))\n",
    "            print(\"=\" * 60)\n",
    "\n",
    "    return prefix"
   ]
  },
  {
   "cell_type": "markdown",
   "id": "81492dce-ddb0-4557-9a50-d114bc2d161a",
   "metadata": {},
   "source": [
    "## Zero-shot"
   ]
  },
  {
   "cell_type": "code",
   "execution_count": 77,
   "id": "72c17ec9-f917-45fe-8ce6-ce27e1caa4b2",
   "metadata": {},
   "outputs": [],
   "source": [
    "# prompt = \"\"\"Several chess games in Portable Game Format with concise and insightful comments from a chess master, explaining the pros and cons of each move. \\\n",
    "# Each comment always starts with an opening curly bracket '{' and always ends with a closing curly bracket '}'.\n",
    "\n",
    "# Game 1:\n",
    "# \"\"\"\n",
    "\n",
    "# prompt = \"\"\"A chess games with concise comments, which briefly explain the upsides and downsides of the move \\\n",
    "# (e.g. whether it develops a piece, wins material, brings king to safety, puts a piece to a better/worse square, creates a threat, fails to pary on opponents idea).\n",
    "# Comment is as always succint as possible -- e.g. { Develops a knight and controls the center. }, or { Wins a pawn, but loses a tempo. } or { Creates a checkmating threat. }.\n",
    "# Comment always focuses on pros and cons of the move, or on the idea/reasoning behind it.\n",
    "# Each comment always starts with an opening curly bracket '{' and ends with a closing curly bracket '}'.\n",
    "\n",
    "# Game 1:\n",
    "# \"\"\"\n",
    "\n",
    "prompt = \"\"\"Best Annotated Chess Games Collection\n",
    "\n",
    "Preliminary notes:\n",
    "The criteria are pretty rough. For each game in this collection:\n",
    "1. Each comment briefly explains how the move affects the position and what changes.\n",
    "2. Comments are as always succint as possible (around 5 to 10 words).\n",
    "3. Comments avoid generic statements and focus on concrete position.\n",
    "4. Each comment always starts with '{ Note: ' and ends with a closing curly bracket '}'.\n",
    "Without further ado, let's delve into the games!\n",
    "\n",
    "Game 1: NN vs NN\n",
    "\"\"\""
   ]
  },
  {
   "cell_type": "code",
   "execution_count": 78,
   "id": "758acfd3-46ff-4034-9a9e-c3c08883647f",
   "metadata": {},
   "outputs": [
    {
     "data": {
      "application/vnd.jupyter.widget-view+json": {
       "model_id": "47a193d27c0c4a0eb502bb5c2b44b31e",
       "version_major": 2,
       "version_minor": 0
      },
      "text/plain": [
       "Moves:   0%|          | 0/4 [00:00<?, ?it/s]"
      ]
     },
     "metadata": {},
     "output_type": "display_data"
    },
    {
     "name": "stdout",
     "output_type": "stream",
     "text": [
      "Move: 1. f3 \n",
      "Comment: 1. e4 is the most popular opening move. 1. f3 is a rare opening move. \n",
      "============================================================\n",
      "Move:  e5 \n",
      "Comment: 1. e4 is the most popular opening move. 1. e5 is a rare opening move. \n",
      "============================================================\n",
      "Move:  2. g4 \n",
      "Comment: 2. g4 is a rare move. \n",
      "============================================================\n",
      "Move:  Qh4# \n",
      "Comment: 2. g4 is a rare move. 2. Qh4# is a rare move. \n",
      "============================================================\n"
     ]
    }
   ],
   "source": [
    "# Fool's mate\n",
    "game = [\"1. f3 \", \" e5 \", \" 2. g4 \", \" Qh4# \"]\n",
    "\n",
    "commented_game = comment_chess_game(game, prompt, model, tokenizer, device, print_intermediate=True)"
   ]
  },
  {
   "cell_type": "code",
   "execution_count": 79,
   "id": "3d7bcb44-eb62-4e50-8b58-f21aaf635b2a",
   "metadata": {},
   "outputs": [
    {
     "data": {
      "application/vnd.jupyter.widget-view+json": {
       "model_id": "ccde7fa3016a43cf92cd7965a985fd39",
       "version_major": 2,
       "version_minor": 0
      },
      "text/plain": [
       "Moves:   0%|          | 0/7 [00:00<?, ?it/s]"
      ]
     },
     "metadata": {},
     "output_type": "display_data"
    },
    {
     "name": "stdout",
     "output_type": "stream",
     "text": [
      "Move: 1. e4 \n",
      "Comment: 1. e4 is a very common opening move. It is a very flexible move that can lead to many different types of positions. \n",
      "============================================================\n",
      "Move:  e5 \n",
      "Comment: 1. e5 is a very common response to 1. e4. It is a very flexible move that can lead to many different types of positions. \n",
      "============================================================\n",
      "Move:  2. Qh5 \n",
      "Comment: 2. Qh5 is a very unusual move. It is a very flexible move that can lead to many different types of positions. \n",
      "============================================================\n",
      "Move:  Nc6 \n",
      "Comment: 2. Nc6 is a very common response to 2. Qh5. It is a very flexible move that can lead to many different types of positions. \n",
      "============================================================\n",
      "Move:  3. Bc4 \n",
      "Comment: 3. Bc4 is a very common move. It is a very flexible move that can lead to many different types of positions. \n",
      "============================================================\n",
      "Move:  Nf6 \n",
      "Comment: 3. Nf6 is a very common response to 3. Bc4. It is a very flexible move that can lead to many different types of positions. \n",
      "============================================================\n",
      "Move: 4. Qxf7# \n",
      "Comment: 4. Qxf7# is a very unusual move. It is a very flexible move that can lead to many different types of positions. \n",
      "============================================================\n"
     ]
    }
   ],
   "source": [
    "# Scholar's mate\n",
    "game = [\"1. e4 \", \" e5 \", \" 2. Qh5 \", \" Nc6 \", \" 3. Bc4 \", \" Nf6 \", \"4. Qxf7# \"]\n",
    "\n",
    "commented_game = comment_chess_game(game, prompt, model, tokenizer, device, print_intermediate=True)"
   ]
  },
  {
   "cell_type": "code",
   "execution_count": 80,
   "id": "1b03f7db-4749-4a18-9925-6656ede1ef17",
   "metadata": {},
   "outputs": [
    {
     "data": {
      "application/vnd.jupyter.widget-view+json": {
       "model_id": "d93d05d25d6f4e07a6f1648ff8616ed4",
       "version_major": 2,
       "version_minor": 0
      },
      "text/plain": [
       "Moves:   0%|          | 0/13 [00:00<?, ?it/s]"
      ]
     },
     "metadata": {},
     "output_type": "display_data"
    },
    {
     "name": "stdout",
     "output_type": "stream",
     "text": [
      "Move: 1. e4 \n",
      "Comment: 1. e4 is a very common opening move. It is a very flexible move that can lead to many different types of positions. \n",
      "============================================================\n",
      "Move:  e5 \n",
      "Comment: 1. e5 is a very common response to 1. e4. It is a very flexible move that can lead to many different types of positions. \n",
      "============================================================\n",
      "Move:  2. Nf3 \n",
      "Comment: 2. Nf3 is a very common move. It is a very flexible move that can lead to many different types of positions. \n",
      "============================================================\n",
      "Move:  d6 \n",
      "Comment: 2. d6 is a very common response to 2. Nf3. It is a very flexible move that can lead to many different types of positions. \n",
      "============================================================\n",
      "Move:  3. Bc4 \n",
      "Comment: 3. Bc4 is a very common move. It is a very flexible move that can lead to many different types of positions. \n",
      "============================================================\n",
      "Move:  Bg4 \n",
      "Comment: 3. Bg4 is a very common response to 3. Bc4. It is a very flexible move that can lead to many different types of positions. \n",
      "============================================================\n",
      "Move: 4. Nc3 \n",
      "Comment: 4. Nc3 is a very common move. It is a very flexible move that can lead to many different types of positions. \n",
      "============================================================\n",
      "Move:  g6 \n",
      "Comment: 4. g6 is a very common response to 4. Nc3. It is a very flexible move that can lead to many different types of positions. \n",
      "============================================================\n",
      "Move:  5. Kxe5 \n",
      "Comment: 5. Kxe5 is a very common move. It is a very flexible move that can lead to many different types of positions. \n",
      "============================================================\n",
      "Move:  Bxd1 \n",
      "Comment: 5. Bxd1 is a very common response to 5. Kxe5. It is a very flexible move that can lead to many different types of positions. \n",
      "============================================================\n",
      "Move:  6. Bxf7+ \n",
      "Comment: 6. Bxf7+ is a very common move. It is a very flexible move that can lead to many different types of positions. \n",
      "============================================================\n",
      "Move:  Ke7 \n",
      "Comment: 6. Ke7 is a very common response to 6. Bxf7+. It is a very flexible move that can lead to many different types of positions. \n",
      "============================================================\n",
      "Move:  7. Kd5# \n",
      "Comment: 7. Kd5# is a very common move. It is a very flexible move that can lead to many different types of positions. \n",
      "============================================================\n"
     ]
    }
   ],
   "source": [
    "# Legal's mate\n",
    "game = [\"1. e4 \", \" e5 \", \" 2. Nf3 \", \" d6 \", \" 3. Bc4 \", \" Bg4 \", \"4. Nc3 \", \" g6 \",\\\n",
    "        \" 5. Kxe5 \", \" Bxd1 \", \" 6. Bxf7+ \", \" Ke7 \", \" 7. Kd5# \"]\n",
    "\n",
    "commented_game = comment_chess_game(game, prompt, model, tokenizer, device, print_intermediate=True)"
   ]
  },
  {
   "cell_type": "markdown",
   "id": "c73c42e4-4ad8-4a87-b2ff-861ca34a017a",
   "metadata": {},
   "source": [
    "We see a lot of repetitions a lot of repetitions.\n",
    "\n",
    "Arguably, the data is too off-distribution for Mistral."
   ]
  },
  {
   "cell_type": "markdown",
   "id": "d3cf02bd-53e0-4656-ae4b-0818b70e5a1d",
   "metadata": {},
   "source": [
    "## Few-shot"
   ]
  },
  {
   "cell_type": "markdown",
   "id": "e766dcd5-7a0a-472f-aa0b-e3bc81e0bfd4",
   "metadata": {},
   "source": [
    "In few-shot prompt I use reversed Fool's mate and two quick ways to lose in King's Gambit as examples."
   ]
  },
  {
   "cell_type": "code",
   "execution_count": 82,
   "id": "ace3c9cc-c107-4dd1-871b-ee0d8f22ed52",
   "metadata": {},
   "outputs": [],
   "source": [
    "prompt = \"\"\"\n",
    "Best Annotated Chess Games Collection\n",
    "\n",
    "Preliminary notes:\n",
    "The criteria are pretty rough. For each game in this collection:\n",
    "1. Each comment briefly explains how the move affects the position and what changes.\n",
    "2. Comments are as always succint as possible (around 5 to 10 words).\n",
    "3. Comments avoid generic statements and focus on concrete position.\n",
    "4. Each comment always starts with '{ Note: ' and ends with a closing curly bracket '}'.\n",
    "Without further ado, let's delve into the games!\n",
    "\n",
    "Game 1:\n",
    "1.e4 { Note: Opens the queen and the light-squared bishop. } g5 { Note: Opens the bishop, but weakens the kingside. } \\\n",
    "2.Nc3 { Note: Develops a knight, preemptively defends e4 pawn. } f5 { Note: Fatally weakens e8-h5 diagonal -- pawns don't go backwards. } \\\n",
    "3.Qh5# 1-0\n",
    "\n",
    "Game 2:\n",
    "1. e4 { Note: Opens diagonal for the bishop and the queen, controls the center. } e5 { Note: A symmetrical answer. } \\\n",
    "2. f4 { Note: White sacrifices a pawn to gain more control in the center. } Bc5 { Note: Black develops a piece and eyes f2 square. } \\\n",
    "3. fxe5 { Note: White goes up a pawn, but loses a crucial tempo. } Qh4+ { Note: Strong check. If g3, Qxe4+ wins the rook. } \\\n",
    "4. Ke2 { Note: This move is even worse, as it allows instant checkmate. } Qxe4# 0-1\n",
    "\n",
    "Game 3:\n",
    "1. e4 { Note: Opens diagonal for the bishop and the queen, controls the center. } e5 { Note: A symmetrical answer. } \\\n",
    "2. f4 { Note: White sacrifices a pawn to gain more control in the center. } exf4 { Note: Black goes a pawn up instead of developing pieces. } \\\n",
    "3. Bc4 { Note: A risky line, allowing the check on h4. } Qh4+ \\\n",
    "4. Kf1 { Note: White has to move the king -- g3 will be met with fg. } Bc5 { Note: Threatening mate on f2. } \\\n",
    "5. Nf3 { Note: Develops a piece and attacks the queen, but fails to address checkmate threat. } Qf2# 0-1\n",
    "\n",
    "Game 4:\n",
    "\"\"\""
   ]
  },
  {
   "cell_type": "code",
   "execution_count": 83,
   "id": "0c960acf-1c4d-4aa0-9d16-8d01fb9905ae",
   "metadata": {},
   "outputs": [
    {
     "data": {
      "application/vnd.jupyter.widget-view+json": {
       "model_id": "ea15991c153e4c44b250a1f7f0cba2a0",
       "version_major": 2,
       "version_minor": 0
      },
      "text/plain": [
       "Moves:   0%|          | 0/4 [00:00<?, ?it/s]"
      ]
     },
     "metadata": {},
     "output_type": "display_data"
    },
    {
     "name": "stdout",
     "output_type": "stream",
     "text": [
      "Move: 1. f3 \n",
      "Comment: 1. e4 e5 2. f3 Nc6 3. Bc4 Nf6 4. Nf3 Bc5 5. d3 d6 \n",
      "============================================================\n",
      "Move:  e5 \n",
      "Comment: 5... d5 is a better move. \n",
      "============================================================\n",
      "Move:  2. g4 \n",
      "Comment: 2. e4 is a better move. \n",
      "============================================================\n",
      "Move:  Qh4# \n",
      "Comment: 2... Qh4+ is a better move. \n",
      "============================================================\n"
     ]
    }
   ],
   "source": [
    "# Fool's mate\n",
    "game = [\"1. f3 \", \" e5 \", \" 2. g4 \", \" Qh4# \"]\n",
    "\n",
    "commented_game = comment_chess_game(game, prompt, model, tokenizer, device, print_intermediate=True)"
   ]
  },
  {
   "cell_type": "code",
   "execution_count": 84,
   "id": "37304eac-0150-4253-80ec-0b7957e93b5f",
   "metadata": {},
   "outputs": [
    {
     "data": {
      "application/vnd.jupyter.widget-view+json": {
       "model_id": "70012788bf814a2989a13d378ff61ce9",
       "version_major": 2,
       "version_minor": 0
      },
      "text/plain": [
       "Moves:   0%|          | 0/7 [00:00<?, ?it/s]"
      ]
     },
     "metadata": {},
     "output_type": "display_data"
    },
    {
     "name": "stdout",
     "output_type": "stream",
     "text": [
      "Move: 1. e4 \n",
      "Comment: 1. e4 e5 2. Nf3 Nc6 3. Bc4 Bc5 4. c3 Nf6 5. d4 exd4\n",
      "============================================================\n",
      "Move:  e5 \n",
      "Comment: 5... e5 is a common move in the Sicilian Defense. \n",
      "============================================================\n",
      "Move:  2. Qh5 \n",
      "Comment: 2. Qh5 is a common move in the Sicilian Defense. \n",
      "============================================================\n",
      "Move:  Nc6 \n",
      "Comment: 2... Nc6 is a common move in the Sicilian Defense. \n",
      "============================================================\n",
      "Move:  3. Bc4 \n",
      "Comment: 3. Bc4 is a common move in the Sicilian Defense. \n",
      "============================================================\n",
      "Move:  Nf6 \n",
      "Comment: 3... Nf6 is a common move in the Sicilian Defense. \n",
      "============================================================\n",
      "Move: 4. Qxf7# \n",
      "Comment: 4. Qxf7# is a common move in the Sicilian Defense. \n",
      "============================================================\n"
     ]
    }
   ],
   "source": [
    "# Scholar's mate\n",
    "game = [\"1. e4 \", \" e5 \", \" 2. Qh5 \", \" Nc6 \", \" 3. Bc4 \", \" Nf6 \", \"4. Qxf7# \"]\n",
    "\n",
    "commented_game = comment_chess_game(game, prompt, model, tokenizer, device, print_intermediate=True)"
   ]
  },
  {
   "cell_type": "code",
   "execution_count": 85,
   "id": "a624391d-4a16-4579-9112-ac6477292981",
   "metadata": {},
   "outputs": [
    {
     "data": {
      "application/vnd.jupyter.widget-view+json": {
       "model_id": "2764ddf249a74cd499f5fa2a81abbae4",
       "version_major": 2,
       "version_minor": 0
      },
      "text/plain": [
       "Moves:   0%|          | 0/13 [00:00<?, ?it/s]"
      ]
     },
     "metadata": {},
     "output_type": "display_data"
    },
    {
     "name": "stdout",
     "output_type": "stream",
     "text": [
      "Move: 1. e4 \n",
      "Comment: 1. e4 e5 2. Nf3 Nc6 3. Bc4 Bc5 4. c3 Nf6 5. d4 exd4\n",
      "============================================================\n",
      "Move:  e5 \n",
      "Comment: 5... e5 is a common move in the Sicilian Defense. \n",
      "============================================================\n",
      "Move:  2. Nf3 \n",
      "Comment: 2. Nf3 is a common move in the Sicilian Defense. \n",
      "============================================================\n",
      "Move:  d6 \n",
      "Comment: 2... d6 is a common move in the Sicilian Defense. \n",
      "============================================================\n",
      "Move:  3. Bc4 \n",
      "Comment: 3. Bc4 is a common move in the Sicilian Defense. \n",
      "============================================================\n",
      "Move:  Bg4 \n",
      "Comment: 3... Bg4 is a common move in the Sicilian Defense. \n",
      "============================================================\n",
      "Move: 4. Nc3 \n",
      "Comment: 4. Nc3 is a common move in the Sicilian Defense. \n",
      "============================================================\n",
      "Move:  g6 \n",
      "Comment: 4... g6 is a common move in the Sicilian Defense. \n",
      "============================================================\n",
      "Move:  5. Kxe5 \n",
      "Comment: 5. Kxe5 is a common move in the Sicilian Defense. \n",
      "============================================================\n",
      "Move:  Bxd1 \n",
      "Comment: 5... Bxd1 is a common move in the Sicilian Defense. \n",
      "============================================================\n",
      "Move:  6. Bxf7+ \n",
      "Comment: 6. Bxf7+ is a common move in the Sicilian Defense. \n",
      "============================================================\n",
      "Move:  Ke7 \n",
      "Comment: 6... Ke7 is a common move in the Sicilian Defense. \n",
      "============================================================\n",
      "Move:  7. Kd5# \n",
      "Comment: 7. Kd5# is a common move in the Sicilian Defense. \n",
      "============================================================\n"
     ]
    }
   ],
   "source": [
    "# Legal's mate\n",
    "game = [\"1. e4 \", \" e5 \", \" 2. Nf3 \", \" d6 \", \" 3. Bc4 \", \" Bg4 \", \"4. Nc3 \", \" g6 \",\\\n",
    "        \" 5. Kxe5 \", \" Bxd1 \", \" 6. Bxf7+ \", \" Ke7 \", \" 7. Kd5# \"]\n",
    "\n",
    "commented_game = comment_chess_game(game, prompt, model, tokenizer, device, print_intermediate=True)"
   ]
  },
  {
   "cell_type": "markdown",
   "id": "3c81f697-e4c0-480a-895f-d3fc9d83c30d",
   "metadata": {},
   "source": [
    "Again, the results are basically the same."
   ]
  },
  {
   "cell_type": "markdown",
   "id": "69e22f51-2c56-4465-9fdf-f31f6b269a71",
   "metadata": {},
   "source": [
    "## Expected answers"
   ]
  },
  {
   "cell_type": "code",
   "execution_count": 26,
   "id": "35812fad-f370-4699-a656-32d026e31344",
   "metadata": {},
   "outputs": [],
   "source": [
    "sample_annotation_for_fools_mate =\"\"\"\n",
    "1. g4 { Opens the bishop, but weakens the kingside. } e6 { Opens the queen and the dark-squared bishop. } \\\n",
    "2. f4 { Fatally weakens e1-h4 diagonal. } Qh4# 0-1\n",
    "\"\"\""
   ]
  },
  {
   "cell_type": "code",
   "execution_count": 27,
   "id": "afc534a0-d930-4684-8285-b85e4326b92b",
   "metadata": {},
   "outputs": [],
   "source": [
    "sample_annotation_for_scholars_mate = \"\"\"\n",
    "1. e4 { Opens diagonal for the bishop and the queen, controls the center. } e5 { A symmetrical answer. } \\\n",
    "2. Qh5 { A premature development of the queen. } Nc6 { Black defends e6 pawn, which was attacked by the queen. }\\\n",
    "3. Bc4 { White sets a mate threat on f7. } Nf6 { Develops a piece and attack the queen, but fails to protect against mate. Qe7, Qf6 or g6 was needed. }\\\n",
    "4. Qxf7# 1-0 { White uses the chance to checkmate. } 1-0\n",
    "\"\"\""
   ]
  },
  {
   "cell_type": "code",
   "execution_count": 28,
   "id": "5495a564-0dd7-47c1-99d8-b50a7dcfb5af",
   "metadata": {},
   "outputs": [],
   "source": [
    "sample_annotation_for_legals_mate = \"\"\"\n",
    "1. e4 { Opens diagonal for the bishop and the queen, controls the center. } e5 { A symmetrical answer. } \\\n",
    "2. Nf3  { Attacks the pawn, develops a knight } d6 { Defends a pawn, but blocks dark-squared bishop. } \\\n",
    "3. Bc4  { Develops the bishop, aims for potentially weak f7 square. } Bg4 { Develops a piece and pins the knight to the queen. } \\\n",
    "4. Nc3  { Brings third minor piece into the action and increases control of the center. } g6 { Misses a tactical shot. } \\\n",
    "5. Kxe5 { Creates a threat to f7. } Bxd1 { ... Be6 was better, losing a pawn but stopping mate. } \\\n",
    "6. Bxf7+ { Exploiting weakly defended f7. } Ke7 { Forced. } \\\n",
    "7. Kd5# { Utilizes third minor piece. Beautiful coordination. } 1-0\n",
    "\"\"\""
   ]
  }
 ],
 "metadata": {
  "kernelspec": {
   "display_name": "Python 3 (ipykernel)",
   "language": "python",
   "name": "python3"
  },
  "language_info": {
   "codemirror_mode": {
    "name": "ipython",
    "version": 3
   },
   "file_extension": ".py",
   "mimetype": "text/x-python",
   "name": "python",
   "nbconvert_exporter": "python",
   "pygments_lexer": "ipython3",
   "version": "3.11.6"
  }
 },
 "nbformat": 4,
 "nbformat_minor": 5
}
